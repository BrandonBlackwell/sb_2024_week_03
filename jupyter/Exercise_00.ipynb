{
 "cells": [
  {
   "cell_type": "markdown",
   "id": "c17228b6-a827-4474-8ca3-3e1ea5304428",
   "metadata": {},
   "source": [
    "# Exercise 00: Examples"
   ]
  },
  {
   "cell_type": "markdown",
   "id": "46747260-8bba-4077-9e9e-708bdc3fd8a8",
   "metadata": {},
   "source": [
    "## Installing Modules"
   ]
  },
  {
   "cell_type": "code",
   "execution_count": null,
   "id": "4ae59579-843d-472e-80ec-055433f153d4",
   "metadata": {
    "scrolled": true
   },
   "outputs": [],
   "source": [
    "import sys\n",
    "!{sys.executable} -m pip install -U pip\n",
    "!{sys.executable} -m pip install -U scikit-learn matplotlib seaborn pandas"
   ]
  },
  {
   "cell_type": "markdown",
   "id": "ce49add0-f3f2-4dd6-a141-11b407adcaad",
   "metadata": {},
   "source": [
    "## Loading and Assessing the Iris Dataset"
   ]
  },
  {
   "cell_type": "markdown",
   "id": "0ce0a964-6f21-44f5-9f93-7d9ffc7eea91",
   "metadata": {},
   "source": [
    "Load the pre-canned iris dataset:"
   ]
  },
  {
   "cell_type": "code",
   "execution_count": null,
   "id": "81a224ec-7447-4004-bba0-3b77cafd7024",
   "metadata": {},
   "outputs": [],
   "source": [
    "from sklearn import datasets\n",
    "dataset = datasets.load_iris()"
   ]
  },
  {
   "cell_type": "markdown",
   "id": "b22c2707-1031-4ae6-a3f8-4ef08a5c2c51",
   "metadata": {},
   "source": [
    "`dataset` has type `Bunch` [here](https://scikit-learn.org/stable/modules/generated/sklearn.utils.Bunch.html), which is essentially a fancy dictionary:"
   ]
  },
  {
   "cell_type": "code",
   "execution_count": null,
   "id": "54a5f57a-b923-4d5a-8815-025fcae1a7d3",
   "metadata": {},
   "outputs": [],
   "source": [
    "type(dataset)"
   ]
  },
  {
   "cell_type": "code",
   "execution_count": null,
   "id": "826e6be7-e23e-484a-b880-474597434506",
   "metadata": {},
   "outputs": [],
   "source": [
    "dataset.keys()"
   ]
  },
  {
   "cell_type": "markdown",
   "id": "97bfcdae-0d77-41b1-a998-3480ca2acdd3",
   "metadata": {},
   "source": [
    "The keys we're most interested in are `'data'`, `'target'`, `'target_names'`, and `'feature_names'`.\n",
    "\n",
    "`'target_names'` contains the labels for each class:"
   ]
  },
  {
   "cell_type": "code",
   "execution_count": null,
   "id": "d011aeb5-48a9-4d43-9c9a-34a4eb73f963",
   "metadata": {},
   "outputs": [],
   "source": [
    "dataset['target_names']"
   ]
  },
  {
   "cell_type": "markdown",
   "id": "8ead3c85-030d-4c11-a04e-aa5470c7d223",
   "metadata": {},
   "source": [
    "and `'target'` contains the correct `'target_name'` **index** for each entry in `'data'`:"
   ]
  },
  {
   "cell_type": "code",
   "execution_count": null,
   "id": "13170de4-4261-434d-9b14-7d6a65aa194c",
   "metadata": {},
   "outputs": [],
   "source": [
    "dataset['target']"
   ]
  },
  {
   "cell_type": "markdown",
   "id": "07976523-ac3e-489d-973d-21eb1510cd75",
   "metadata": {},
   "source": [
    "The `'data'` array can be quite large.  Each row is an example and each column is a feature for that example.  in this case, there are 150 examples, each with 4 features:"
   ]
  },
  {
   "cell_type": "code",
   "execution_count": null,
   "id": "19764525-04aa-44fe-a72f-006e2c8bb625",
   "metadata": {},
   "outputs": [],
   "source": [
    "dataset['data'].shape"
   ]
  },
  {
   "cell_type": "code",
   "execution_count": null,
   "id": "00f080c5-aad9-4c19-aae9-58c9d976418a",
   "metadata": {},
   "outputs": [],
   "source": [
    "dataset['data'][0]"
   ]
  },
  {
   "cell_type": "markdown",
   "id": "73507afb-87f1-4946-993f-43a37b0b9e93",
   "metadata": {},
   "source": [
    "What do these numbers mean?  The `'feature_names'` array tells us:"
   ]
  },
  {
   "cell_type": "code",
   "execution_count": null,
   "id": "19b2aa4d-da70-45b0-b136-f25130803e97",
   "metadata": {},
   "outputs": [],
   "source": [
    "dataset['feature_names']"
   ]
  },
  {
   "cell_type": "markdown",
   "id": "3a941cb8-946a-4bc2-984f-1402a2a2eaa7",
   "metadata": {},
   "source": [
    "We can get a feel for the iris dataset by creating scatter plots from pairs of features.\n",
    "\n",
    "Documentation of interest:\n",
    "- [subplots](https://matplotlib.org/stable/api/_as_gen/matplotlib.pyplot.subplots.html)\n",
    "- [scatter](https://matplotlib.org/stable/api/_as_gen/matplotlib.pyplot.scatter.html)\n",
    "- [axis.set](https://matplotlib.org/stable/api/_as_gen/matplotlib.axes.Axes.set.html)\n",
    "- [axis.legend](https://matplotlib.org/stable/api/_as_gen/matplotlib.axes.Axes.legend.html)"
   ]
  },
  {
   "cell_type": "code",
   "execution_count": null,
   "id": "7c2b34f3-a1c2-4e53-ab04-2cc61fbf5a8c",
   "metadata": {},
   "outputs": [],
   "source": [
    "import matplotlib.pyplot as plt\n",
    "from random import randrange\n",
    "\n",
    "_, ax = plt.subplots()\n",
    "\n",
    "scatter = ax.scatter(\n",
    "    dataset.data[:, 0],\n",
    "    dataset.data[:, 1],\n",
    "    c=dataset.target\n",
    ")\n",
    "\n",
    "ax.set(\n",
    "    xlabel=dataset.feature_names[0],\n",
    "    ylabel=dataset.feature_names[1]\n",
    ")\n",
    "\n",
    "ax.legend(\n",
    "    scatter.legend_elements()[0],\n",
    "    dataset.target_names,\n",
    "    loc=\"lower right\",\n",
    "    title=\"Classes\"\n",
    ");"
   ]
  },
  {
   "cell_type": "markdown",
   "id": "a7b9d110-f23d-4eaa-b556-5e7aa6b0e2fe",
   "metadata": {},
   "source": [
    "Creating these plots manually can be tedious, so we'll use Seaborn `pairplot` to create every feature combo in one command.\n",
    "\n",
    "First, we need to convert the `scikit-learn` dataset into a `pandas` dataframe."
   ]
  },
  {
   "cell_type": "code",
   "execution_count": null,
   "id": "b2124701-29b2-433d-8ee5-8ccc54f4abfe",
   "metadata": {},
   "outputs": [],
   "source": [
    "import pandas as pd\n",
    "import numpy as np\n",
    "import seaborn as sns\n",
    "\n",
    "sns.set(style=\"ticks\", color_codes=True)\n",
    "\n",
    "df = pd.DataFrame(\n",
    "    data=np.c_[dataset['data'], dataset['target']],   # concatenate 'data' and 'target' values\n",
    "    columns=dataset['feature_names'] + ['Species'] # concatenate 'feature_names' and \"Species\"\n",
    ")"
   ]
  },
  {
   "cell_type": "code",
   "execution_count": null,
   "id": "2729fa88-1440-423f-b7ef-6cc518a89bdd",
   "metadata": {},
   "outputs": [],
   "source": [
    "df"
   ]
  },
  {
   "cell_type": "markdown",
   "id": "c3db91e8-80fc-4aa3-8779-122f2d6a0202",
   "metadata": {},
   "source": [
    "Next, we'll convert the numeric `'Species'` to strings by converting that column to \"category\" data and then mapping the values."
   ]
  },
  {
   "cell_type": "code",
   "execution_count": null,
   "id": "3cea3311-cbf6-42aa-9d4a-ba59a210ff14",
   "metadata": {},
   "outputs": [],
   "source": [
    "df['Species'] = df['Species'].astype('category')\n",
    "df['Species'] = df['Species'].cat.rename_categories(dataset['target_names'])"
   ]
  },
  {
   "cell_type": "markdown",
   "id": "1682c4c4-e54c-489f-9958-63afe1260d1f",
   "metadata": {},
   "source": [
    "Useful documentation:\n",
    "* [pairplot](https://seaborn.pydata.org/generated/seaborn.pairplot.html)\n",
    "\n",
    "**NOTE: THIS CAN TAKE A WHILE TO RENDER!**"
   ]
  },
  {
   "cell_type": "code",
   "execution_count": null,
   "id": "c3bbf430-3e4a-45da-b63d-9d634d2e03e1",
   "metadata": {},
   "outputs": [],
   "source": [
    "import seaborn as sns\n",
    "\n",
    "g = sns.pairplot(\n",
    "    df,\n",
    "    hue=\"Species\"\n",
    ")"
   ]
  },
  {
   "cell_type": "markdown",
   "id": "9f5b0c9e-5704-4607-ad3d-300f2db9b6bb",
   "metadata": {},
   "source": [
    "## Training vs Testing\n",
    "\n",
    "We want to split the data we have into two chunks:\n",
    "* a training set that we use teach our model\n",
    "* a testing set that we use to assess model performance\n",
    "\n",
    "It is **critical** that our model gets no information about the testing dataset,\n",
    "and that the statistics of the training and testing dataset are consistent.\n",
    "\n",
    "In this example, we'll use 60% of our data for training, and 40% for testing."
   ]
  },
  {
   "cell_type": "code",
   "execution_count": null,
   "id": "cdcd4389-942a-487d-82b7-b685e7f6d52d",
   "metadata": {},
   "outputs": [],
   "source": [
    "from sklearn.model_selection import train_test_split\n",
    "\n",
    "X_train, X_test, y_train, y_test = train_test_split(\n",
    "    dataset['data'], dataset['target'], test_size=0.4, random_state=10\n",
    ")"
   ]
  },
  {
   "cell_type": "code",
   "execution_count": null,
   "id": "a4a2c272-4592-474f-a1ee-e5d9ae35d9eb",
   "metadata": {},
   "outputs": [],
   "source": [
    "from sklearn.neighbors import KNeighborsClassifier\n",
    "from sklearn import metrics\n",
    "\n",
    "clf = KNeighborsClassifier(3)\n",
    "clf.fit(X_train, y_train)\n",
    "predicted = clf.predict(X_test)\n",
    "\n",
    "print(\n",
    "    f\"Classification report for classifier {clf}:\\n\"\n",
    "    f\"{metrics.classification_report(y_test, predicted)}\\n\"\n",
    ")\n",
    "\n",
    "disp = metrics.ConfusionMatrixDisplay.from_predictions(y_test, predicted)\n",
    "print(f\"Confusion matrix:\\n{disp.confusion_matrix}\")\n",
    "disp.figure_.suptitle(\"K Nearest Neighbors Confusion Matrix\")\n",
    "plt.show()"
   ]
  },
  {
   "cell_type": "code",
   "execution_count": null,
   "id": "aed500d0-e182-4f46-b1f9-5895252dd68c",
   "metadata": {},
   "outputs": [],
   "source": []
  }
 ],
 "metadata": {
  "kernelspec": {
   "display_name": "Python 3 (ipykernel)",
   "language": "python",
   "name": "python3"
  },
  "language_info": {
   "codemirror_mode": {
    "name": "ipython",
    "version": 3
   },
   "file_extension": ".py",
   "mimetype": "text/x-python",
   "name": "python",
   "nbconvert_exporter": "python",
   "pygments_lexer": "ipython3",
   "version": "3.10.13"
  }
 },
 "nbformat": 4,
 "nbformat_minor": 5
}
