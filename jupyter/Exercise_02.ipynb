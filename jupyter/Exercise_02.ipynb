{
 "cells": [
  {
   "cell_type": "markdown",
   "id": "c17228b6-a827-4474-8ca3-3e1ea5304428",
   "metadata": {},
   "source": [
    "# Exercise 02: Classifier Comparison\n",
    "\n",
    "In this exercise, you'll run several classifiers on the same data and compare their effectiveness."
   ]
  },
  {
   "cell_type": "markdown",
   "id": "46747260-8bba-4077-9e9e-708bdc3fd8a8",
   "metadata": {},
   "source": [
    "## Installing Modules"
   ]
  },
  {
   "cell_type": "code",
   "execution_count": null,
   "id": "4ae59579-843d-472e-80ec-055433f153d4",
   "metadata": {
    "scrolled": true
   },
   "outputs": [],
   "source": [
    "import sys\n",
    "!{sys.executable} -m pip install -U pip\n",
    "!{sys.executable} -m pip install -U scikit-learn matplotlib seaborn pandas"
   ]
  },
  {
   "cell_type": "markdown",
   "id": "ce49add0-f3f2-4dd6-a141-11b407adcaad",
   "metadata": {},
   "source": [
    "## Setup"
   ]
  },
  {
   "cell_type": "markdown",
   "id": "0ce0a964-6f21-44f5-9f93-7d9ffc7eea91",
   "metadata": {},
   "source": [
    "Load the pre-canned wine dataset:"
   ]
  },
  {
   "cell_type": "code",
   "execution_count": null,
   "id": "81a224ec-7447-4004-bba0-3b77cafd7024",
   "metadata": {},
   "outputs": [],
   "source": [
    "from sklearn import datasets\n",
    "dataset = datasets.load_wine()"
   ]
  },
  {
   "cell_type": "markdown",
   "id": "efb0ecfe-2fb7-4dd3-b2d2-d9c9b1295890",
   "metadata": {},
   "source": [
    "Split test data into training/testing sets:"
   ]
  },
  {
   "cell_type": "code",
   "execution_count": null,
   "id": "cdcd4389-942a-487d-82b7-b685e7f6d52d",
   "metadata": {},
   "outputs": [],
   "source": [
    "from sklearn.model_selection import train_test_split\n",
    "\n",
    "X_train, X_test, y_train, y_test = train_test_split(\n",
    "    dataset['data'], dataset['target'], test_size=0.4, random_state=10\n",
    ")"
   ]
  },
  {
   "cell_type": "markdown",
   "id": "e218d681-4867-4612-9053-588d5b0eeb36",
   "metadata": {},
   "source": [
    "## K Nearest Neighbors\n",
    "\n",
    "Spend a little time learning about K Nearest Neighbor (KNN) classifiers.\n",
    "\n",
    "Once you have a handle on how they work, run the code below and inspect the results."
   ]
  },
  {
   "cell_type": "code",
   "execution_count": null,
   "id": "a4a2c272-4592-474f-a1ee-e5d9ae35d9eb",
   "metadata": {},
   "outputs": [],
   "source": [
    "import matplotlib.pyplot as plt\n",
    "\n",
    "from sklearn.neighbors import KNeighborsClassifier\n",
    "from sklearn import metrics\n",
    "\n",
    "clf = KNeighborsClassifier(3)\n",
    "clf.fit(X_train, y_train)\n",
    "predicted = clf.predict(X_test)\n",
    "\n",
    "print(\n",
    "    f\"Classification report for classifier {clf}:\\n\"\n",
    "    f\"{metrics.classification_report(y_test, predicted)}\\n\"\n",
    ")\n",
    "\n",
    "disp = metrics.ConfusionMatrixDisplay.from_predictions(y_test, predicted)\n",
    "print(f\"Confusion matrix:\\n{disp.confusion_matrix}\")\n",
    "disp.figure_.suptitle(\"K Nearest Neighbors Confusion Matrix\")\n",
    "plt.show()"
   ]
  },
  {
   "cell_type": "markdown",
   "id": "9d617c62-ff29-425a-9463-f60ddba48266",
   "metadata": {},
   "source": [
    "## Support Vector Machines\n",
    "\n",
    "Spend a little time learning about support vector machine (SVM) classifiers.\n",
    "\n",
    "I've copied the KNN code from above to get you started...modify it to run a support vector machine classifier, and inspect the results."
   ]
  },
  {
   "cell_type": "code",
   "execution_count": null,
   "id": "635d0271-acfd-4dd2-9973-627bceeed898",
   "metadata": {},
   "outputs": [],
   "source": [
    "##\n",
    "## UPDATE THIS CODE\n",
    "##\n",
    "\n",
    "import matplotlib.pyplot as plt\n",
    "\n",
    "from sklearn.neighbors import KNeighborsClassifier\n",
    "from sklearn import metrics\n",
    "\n",
    "clf = KNeighborsClassifier(3)\n",
    "clf.fit(X_train, y_train)\n",
    "predicted = clf.predict(X_test)\n",
    "\n",
    "print(\n",
    "    f\"Classification report for classifier {clf}:\\n\"\n",
    "    f\"{metrics.classification_report(y_test, predicted)}\\n\"\n",
    ")\n",
    "\n",
    "disp = metrics.ConfusionMatrixDisplay.from_predictions(y_test, predicted)\n",
    "print(f\"Confusion matrix:\\n{disp.confusion_matrix}\")\n",
    "disp.figure_.suptitle(\"K Nearest Neighbors Confusion Matrix\")\n",
    "plt.show()"
   ]
  },
  {
   "cell_type": "markdown",
   "id": "1d8dbc3b-6ea6-47aa-9659-c34e0cd0be0e",
   "metadata": {},
   "source": [
    "## Decision Trees\n",
    "\n",
    "Spend a little time learning about decision tree classifiers.\n",
    "\n",
    "I've copied the KNN code from above to get you started...modify it to run a decision tree classifier, and inspect the results."
   ]
  },
  {
   "cell_type": "code",
   "execution_count": null,
   "id": "83d78934-6dea-42c3-8bc9-0557174514ca",
   "metadata": {},
   "outputs": [],
   "source": [
    "##\n",
    "## UPDATE THIS CODE\n",
    "##\n",
    "\n",
    "import matplotlib.pyplot as plt\n",
    "\n",
    "from sklearn.neighbors import KNeighborsClassifier\n",
    "from sklearn import metrics\n",
    "\n",
    "clf = KNeighborsClassifier(3)\n",
    "clf.fit(X_train, y_train)\n",
    "predicted = clf.predict(X_test)\n",
    "\n",
    "print(\n",
    "    f\"Classification report for classifier {clf}:\\n\"\n",
    "    f\"{metrics.classification_report(y_test, predicted)}\\n\"\n",
    ")\n",
    "\n",
    "disp = metrics.ConfusionMatrixDisplay.from_predictions(y_test, predicted)\n",
    "print(f\"Confusion matrix:\\n{disp.confusion_matrix}\")\n",
    "disp.figure_.suptitle(\"K Nearest Neighbors Confusion Matrix\")\n",
    "plt.show()"
   ]
  },
  {
   "cell_type": "markdown",
   "id": "d5651d64-4d50-41e8-a3d9-439060c6b631",
   "metadata": {},
   "source": [
    "## Random Forest Classifiers\n",
    "\n",
    "Spend a little time learning about random forest classifiers.\n",
    "\n",
    "I've copied the KNN code from above to get you started...modify it to run a random forest classifier, and inspect the results."
   ]
  },
  {
   "cell_type": "code",
   "execution_count": null,
   "id": "5b5aac0e-f48d-499d-94fa-e16ccddb57af",
   "metadata": {},
   "outputs": [],
   "source": [
    "##\n",
    "## UPDATE THIS CODE\n",
    "##\n",
    "\n",
    "import matplotlib.pyplot as plt\n",
    "\n",
    "from sklearn.neighbors import KNeighborsClassifier\n",
    "from sklearn import metrics\n",
    "\n",
    "clf = KNeighborsClassifier(3)\n",
    "clf.fit(X_train, y_train)\n",
    "predicted = clf.predict(X_test)\n",
    "\n",
    "print(\n",
    "    f\"Classification report for classifier {clf}:\\n\"\n",
    "    f\"{metrics.classification_report(y_test, predicted)}\\n\"\n",
    ")\n",
    "\n",
    "disp = metrics.ConfusionMatrixDisplay.from_predictions(y_test, predicted)\n",
    "print(f\"Confusion matrix:\\n{disp.confusion_matrix}\")\n",
    "disp.figure_.suptitle(\"K Nearest Neighbors Confusion Matrix\")\n",
    "plt.show()"
   ]
  },
  {
   "cell_type": "markdown",
   "id": "5d805cc8-4fb9-411a-9524-df7e6b0d32df",
   "metadata": {},
   "source": [
    "## Questions"
   ]
  },
  {
   "cell_type": "markdown",
   "id": "9609c75e-2b79-43a4-9dd6-6a4754e6e9e7",
   "metadata": {},
   "source": [
    "Compare and contrast the performance of the classifiers. Which do you think is best, and which worst? Are there any patterns? Anything else interesting to report?"
   ]
  },
  {
   "cell_type": "markdown",
   "id": "345f2fc3-494b-4424-ad72-ccb1c6de8a9b",
   "metadata": {},
   "source": [
    "YOUR ANSWER HERE"
   ]
  },
  {
   "cell_type": "markdown",
   "id": "ecba98bb-57c9-472d-aee1-2f4f366ea3a3",
   "metadata": {},
   "source": [
    "Was there a pattern to the changes you needed to make?  What does that say about the design of the `scikit-learn` estimators and APIs?"
   ]
  },
  {
   "cell_type": "markdown",
   "id": "82a93cb4-6948-44f4-9d47-bf350fdb1752",
   "metadata": {},
   "source": [
    "YOUR ANSWER HERE"
   ]
  },
  {
   "cell_type": "markdown",
   "id": "e6cd7da8-2be2-457a-9818-1f375e4ee90d",
   "metadata": {},
   "source": [
    "## Follow-up\n",
    "\n",
    "Go back to the train/test split step, and change the `random_state` value.  Rerun the classifiers and inspect the results.  Do this several times for several `random_state` values.  What do you observe?"
   ]
  },
  {
   "cell_type": "markdown",
   "id": "9bce9084-c090-447a-ae4a-b5e192cddfdc",
   "metadata": {},
   "source": [
    "YOUR ANSWER HERE"
   ]
  },
  {
   "cell_type": "markdown",
   "id": "46fc4200-c2e9-441e-8035-6d269248e578",
   "metadata": {},
   "source": [
    "What does this imply about the training process?"
   ]
  },
  {
   "cell_type": "markdown",
   "id": "4d118e92-bfd2-425e-bb8e-9594a5f61d7a",
   "metadata": {},
   "source": [
    "YOUR ANSWER HERE"
   ]
  },
  {
   "cell_type": "markdown",
   "id": "618ff28d-ae7c-443e-b815-b64b7e87237f",
   "metadata": {},
   "source": [
    "What is `random_state` doing?"
   ]
  },
  {
   "cell_type": "markdown",
   "id": "21879477-2391-4a80-b53a-69ba7f301b89",
   "metadata": {},
   "source": [
    "YOUR ANSWER HERE"
   ]
  },
  {
   "cell_type": "markdown",
   "id": "fec3996a-349f-44e2-93eb-c2cf1fb7d882",
   "metadata": {},
   "source": [
    "What should you do to ensure your ML results are reproducible?"
   ]
  },
  {
   "cell_type": "markdown",
   "id": "83a477ff-3fe9-4c92-8389-edcae37f0c7e",
   "metadata": {},
   "source": [
    "YOUR ANSWER HERE"
   ]
  },
  {
   "cell_type": "markdown",
   "id": "2f000ffe-0ead-45d1-b656-0ea0286122e1",
   "metadata": {},
   "source": [
    "**MAKE SURE YOU SAVE, COMMIT, AND PUSH YOUR NOTEBOOKS TO YOUR REPO!!**"
   ]
  },
  {
   "cell_type": "code",
   "execution_count": null,
   "id": "c4d5efee-eed0-49af-81a3-40a01ca725c0",
   "metadata": {},
   "outputs": [],
   "source": []
  }
 ],
 "metadata": {
  "kernelspec": {
   "display_name": "Python 3 (ipykernel)",
   "language": "python",
   "name": "python3"
  },
  "language_info": {
   "codemirror_mode": {
    "name": "ipython",
    "version": 3
   },
   "file_extension": ".py",
   "mimetype": "text/x-python",
   "name": "python",
   "nbconvert_exporter": "python",
   "pygments_lexer": "ipython3",
   "version": "3.10.13"
  }
 },
 "nbformat": 4,
 "nbformat_minor": 5
}
